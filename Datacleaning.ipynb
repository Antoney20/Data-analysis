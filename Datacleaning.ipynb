{
  "nbformat": 4,
  "nbformat_minor": 0,
  "metadata": {
    "colab": {
      "provenance": [],
      "authorship_tag": "ABX9TyOhmwQroAy8ePd3J/fNfpsd",
      "include_colab_link": true
    },
    "kernelspec": {
      "name": "python3",
      "display_name": "Python 3"
    },
    "language_info": {
      "name": "python"
    }
  },
  "cells": [
    {
      "cell_type": "markdown",
      "metadata": {
        "id": "view-in-github",
        "colab_type": "text"
      },
      "source": [
        "<a href=\"https://colab.research.google.com/github/Antoney20/Data-analysis/blob/main/Datacleaning.ipynb\" target=\"_parent\"><img src=\"https://colab.research.google.com/assets/colab-badge.svg\" alt=\"Open In Colab\"/></a>"
      ]
    },
    {
      "cell_type": "code",
      "execution_count": 1,
      "metadata": {
        "colab": {
          "base_uri": "https://localhost:8080/"
        },
        "id": "2GirYbptJ5_q",
        "outputId": "e35cd6a0-3118-4527-d072-ae8fbc519e99"
      },
      "outputs": [
        {
          "output_type": "stream",
          "name": "stdout",
          "text": [
            "3\n"
          ]
        }
      ],
      "source": [
        "import pandas as pd\n",
        "import numpy as np\n",
        "\n",
        "s = pd.Series(['a', 3, np.nan, 1, np.nan])\n",
        "\n",
        "print(s.notnull().sum())"
      ]
    },
    {
      "cell_type": "markdown",
      "source": [
        "Data Cleaning with DataFrames"
      ],
      "metadata": {
        "id": "bA_Wk96qKalJ"
      }
    },
    {
      "cell_type": "code",
      "source": [
        "s = pd.Series([np.nan, 1, 2, np.nan, 3])\n",
        "s = s.fillna(method='ffill')\n",
        "\n",
        "print(s)"
      ],
      "metadata": {
        "colab": {
          "base_uri": "https://localhost:8080/"
        },
        "id": "arBdR2wMKjyT",
        "outputId": "e3b242e0-0940-4f6d-abb2-88badab142b8"
      },
      "execution_count": 2,
      "outputs": [
        {
          "output_type": "stream",
          "name": "stdout",
          "text": [
            "0    NaN\n",
            "1    1.0\n",
            "2    2.0\n",
            "3    2.0\n",
            "4    3.0\n",
            "dtype: float64\n"
          ]
        }
      ]
    },
    {
      "cell_type": "markdown",
      "source": [
        "The Python method .duplicated() returns a boolean Series for your DataFrame. True is the return value for rows that: contain a duplicate, where the value for the row is at least the second occurrence of that value."
      ],
      "metadata": {
        "id": "a1GVDU5PLtr0"
      }
    },
    {
      "cell_type": "markdown",
      "source": [
        "plt.subplot(1, 2, 1) . Means My figure will have one row, two columns, and I am going to start drawing in the first (left) plot."
      ],
      "metadata": {
        "id": "MuYv7iqMMfAn"
      }
    },
    {
      "cell_type": "code",
      "source": [],
      "metadata": {
        "id": "zK_hFRF-NJGm"
      },
      "execution_count": null,
      "outputs": []
    }
  ]
}