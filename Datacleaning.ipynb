{
  "nbformat": 4,
  "nbformat_minor": 0,
  "metadata": {
    "colab": {
      "provenance": [],
      "authorship_tag": "ABX9TyNYmtpEQPKwY1lGDtjN+afT",
      "include_colab_link": true
    },
    "kernelspec": {
      "name": "python3",
      "display_name": "Python 3"
    },
    "language_info": {
      "name": "python"
    }
  },
  "cells": [
    {
      "cell_type": "markdown",
      "metadata": {
        "id": "view-in-github",
        "colab_type": "text"
      },
      "source": [
        "<a href=\"https://colab.research.google.com/github/Antoney20/Data-analysis/blob/main/Datacleaning.ipynb\" target=\"_parent\"><img src=\"https://colab.research.google.com/assets/colab-badge.svg\" alt=\"Open In Colab\"/></a>"
      ]
    },
    {
      "cell_type": "code",
      "execution_count": 1,
      "metadata": {
        "colab": {
          "base_uri": "https://localhost:8080/"
        },
        "id": "2GirYbptJ5_q",
        "outputId": "4ed3c800-c5a9-44a7-df19-8c9dcf3cb689"
      },
      "outputs": [
        {
          "output_type": "stream",
          "name": "stdout",
          "text": [
            "3\n"
          ]
        }
      ],
      "source": [
        "import pandas as pd\n",
        "import numpy as np\n",
        "\n",
        "s = pd.Series(['a', 3, np.nan, 1, np.nan])\n",
        "\n",
        "print(s.notnull().sum())"
      ]
    },
    {
      "cell_type": "markdown",
      "source": [
        "Data Cleaning with DataFrames"
      ],
      "metadata": {
        "id": "bA_Wk96qKalJ"
      }
    },
    {
      "cell_type": "code",
      "source": [
        "s = pd.Series([np.nan, 1, 2, np.nan, 3])\n",
        "s = s.fillna(method='ffill')\n",
        "\n",
        "print(s)"
      ],
      "metadata": {
        "colab": {
          "base_uri": "https://localhost:8080/"
        },
        "id": "arBdR2wMKjyT",
        "outputId": "c0af5b03-1ddc-4d64-bbb2-67627b4c8760"
      },
      "execution_count": 2,
      "outputs": [
        {
          "output_type": "stream",
          "name": "stdout",
          "text": [
            "0    NaN\n",
            "1    1.0\n",
            "2    2.0\n",
            "3    2.0\n",
            "4    3.0\n",
            "dtype: float64\n"
          ]
        }
      ]
    },
    {
      "cell_type": "markdown",
      "source": [
        "The Python method .duplicated() returns a boolean Series for your DataFrame. True is the return value for rows that: contain a duplicate, where the value for the row is at least the second occurrence of that value."
      ],
      "metadata": {
        "id": "a1GVDU5PLtr0"
      }
    },
    {
      "cell_type": "markdown",
      "source": [
        "plt.subplot(1, 2, 1) . Means My figure will have one row, two columns, and I am going to start drawing in the first (left) plot."
      ],
      "metadata": {
        "id": "MuYv7iqMMfAn"
      }
    },
    {
      "cell_type": "markdown",
      "source": [
        " **Reading data from relational databases**\n",
        "\n",
        "\n",
        "\n",
        "1.   we import the database ie import sqlite3\n",
        "\n",
        "\n",
        "> The Cursor instance has an .execute() method which receives SQL parameters to run against the database.\n",
        "\n",
        "1.   connnect = sqlite3.connect(\"path\")\n",
        "2.   df= pd.read_sql(\"select * from students\")\n",
        "\n",
        "\n",
        "\n",
        "\n",
        "\n",
        "\n",
        "\n"
      ],
      "metadata": {
        "id": "hZPudezfOOZy"
      }
    }
  ]
}