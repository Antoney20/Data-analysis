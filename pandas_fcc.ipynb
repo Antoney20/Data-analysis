{
  "nbformat": 4,
  "nbformat_minor": 0,
  "metadata": {
    "colab": {
      "provenance": [],
      "authorship_tag": "ABX9TyNTKd0nO2zIg2AAxcBz+Z8u",
      "include_colab_link": true
    },
    "kernelspec": {
      "name": "python3",
      "display_name": "Python 3"
    },
    "language_info": {
      "name": "python"
    }
  },
  "cells": [
    {
      "cell_type": "markdown",
      "metadata": {
        "id": "view-in-github",
        "colab_type": "text"
      },
      "source": [
        "<a href=\"https://colab.research.google.com/github/Antoney20/Data-analysis/blob/master/pandas_fcc.ipynb\" target=\"_parent\"><img src=\"https://colab.research.google.com/assets/colab-badge.svg\" alt=\"Open In Colab\"/></a>"
      ]
    },
    {
      "cell_type": "markdown",
      "source": [
        "an overview of pandas. "
      ],
      "metadata": {
        "id": "HqEen8am854a"
      }
    },
    {
      "cell_type": "code",
      "source": [
        "import pandas as pd\n",
        "\n",
        "certificates_earned = pd.DataFrame({\n",
        "    'Certificates': [8, 2, 5, 6],\n",
        "    'Time (in months)': [16, 5, 9, 12]\n",
        "})\n",
        "\n",
        "certificates_earned.index = ['Tom', 'Kris', 'Ahmad', 'Beau']\n",
        "\n",
        "print(certificates_earned.iloc[2])"
      ],
      "metadata": {
        "colab": {
          "base_uri": "https://localhost:8080/"
        },
        "id": "9G6cBcgCzBN3",
        "outputId": "77c1f2a0-35f5-427a-d4a7-1f9bef6a01e9"
      },
      "execution_count": 1,
      "outputs": [
        {
          "output_type": "stream",
          "name": "stdout",
          "text": [
            "Certificates        5\n",
            "Time (in months)    9\n",
            "Name: Ahmad, dtype: int64\n"
          ]
        }
      ]
    },
    {
      "cell_type": "code",
      "source": [
        "certificates_earned = pd.DataFrame({\n",
        "    'Certificates': [8, 2, 5, 6],\n",
        "    'Time (in months)': [16, 5, 9, 12]\n",
        "})\n",
        "names = ['Tom', 'Kris', 'Ahmad', 'Beau']\n",
        "\n",
        "certificates_earned.index = names\n",
        "longest_streak = pd.Series([13, 11, 9, 7], index=names)\n",
        "certificates_earned['Longest streak'] = longest_streak\n",
        "\n",
        "print(certificates_earned)"
      ],
      "metadata": {
        "colab": {
          "base_uri": "https://localhost:8080/"
        },
        "id": "209wZhsY9UuE",
        "outputId": "2095410a-c7ea-4377-b2ac-a37bfd7e970f"
      },
      "execution_count": 2,
      "outputs": [
        {
          "output_type": "stream",
          "name": "stdout",
          "text": [
            "       Certificates  Time (in months)  Longest streak\n",
            "Tom               8                16              13\n",
            "Kris              2                 5              11\n",
            "Ahmad             5                 9               9\n",
            "Beau              6                12               7\n"
          ]
        }
      ]
    },
    {
      "cell_type": "markdown",
      "source": [
        "Pandas Creating Columns"
      ],
      "metadata": {
        "id": "ljc_x4Dg9lbN"
      }
    },
    {
      "cell_type": "code",
      "source": [
        "certificates_earned['Certificates per month'] = round(\n",
        "    certificates_earned['Certificates'] /\n",
        "    certificates_earned['Time (in months)'], 2\n",
        ")"
      ],
      "metadata": {
        "id": "7BMX-mHi9nD1"
      },
      "execution_count": 3,
      "outputs": []
    },
    {
      "cell_type": "code",
      "source": [],
      "metadata": {
        "id": "-qUMnjSH-MDL"
      },
      "execution_count": null,
      "outputs": []
    },
    {
      "cell_type": "code",
      "source": [],
      "metadata": {
        "id": "8uP3TnHh-MiF"
      },
      "execution_count": null,
      "outputs": []
    },
    {
      "cell_type": "code",
      "source": [],
      "metadata": {
        "id": "SsIO9fHO-Mvx"
      },
      "execution_count": null,
      "outputs": []
    },
    {
      "cell_type": "code",
      "source": [],
      "metadata": {
        "id": "MwSnVmvT-NFj"
      },
      "execution_count": null,
      "outputs": []
    }
  ]
}